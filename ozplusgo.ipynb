{
 "metadata": {
  "language_info": {
   "codemirror_mode": {
    "name": "ipython",
    "version": 3
   },
   "file_extension": ".py",
   "mimetype": "text/x-python",
   "name": "python",
   "nbconvert_exporter": "python",
   "pygments_lexer": "ipython3",
   "version": "3.7.0-final"
  },
  "orig_nbformat": 2,
  "kernelspec": {
   "name": "python_defaultSpec_1598856528597",
   "display_name": "Python 3.7.0 64-bit"
  }
 },
 "nbformat": 4,
 "nbformat_minor": 2,
 "cells": [
  {
   "cell_type": "code",
   "execution_count": 78,
   "metadata": {
    "tags": []
   },
   "outputs": [
    {
     "output_type": "stream",
     "name": "stdout",
     "text": "416\n35.50\n"
    }
   ],
   "source": [
    "from selenium import webdriver\n",
    "from selenium.webdriver.firefox.options import Options\n",
    "import os \n",
    "\n",
    "options = Options()\n",
    "options.headless = True\n",
    "# driver = webdriver.Chrome(options=options)\n",
    "driver = webdriver.Firefox(options=options)\n",
    "\n",
    "dir_path = os.getcwd()\n",
    "file_path = 'file:///' + dir_path + '\\index.html'\n",
    "driver.get(file_path)\n",
    "\n",
    "productsName = driver.find_elements_by_css_selector(\"div[class='yd-list-title']\")\n",
    "productsPrice = driver.find_elements_by_css_selector(\"span[class='list-price']\")\n",
    "totalLength = len(productsName)\n",
    "\n",
    "print(totalLength)\n",
    "print(productsPrice[0].text)"
   ]
  },
  {
   "cell_type": "code",
   "execution_count": null,
   "metadata": {},
   "outputs": [],
   "source": []
  },
  {
   "cell_type": "code",
   "execution_count": 98,
   "metadata": {},
   "outputs": [],
   "source": [
    "import csv\n",
    "data = [[productsName[0].text],[productsPrice[0].text]]\n",
    "\n",
    "with open('results.csv','w',newline='',encoding='utf-8-sig') as f:\n",
    "    f.write('3')\n",
    "f.write('\\n')\n"
   ]
  },
  {
   "cell_type": "code",
   "execution_count": null,
   "metadata": {},
   "outputs": [],
   "source": []
  }
 ]
}